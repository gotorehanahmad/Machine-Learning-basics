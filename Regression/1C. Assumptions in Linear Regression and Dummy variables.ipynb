{
 "cells": [
  {
   "cell_type": "markdown",
   "metadata": {
    "nbpresent": {
     "id": "9e327d62-efa8-42da-a466-3807c60e7b68"
    }
   },
   "source": [
    "### Assumptions in Linear Regression:\n",
    "\n",
    "#### 1. Normally distributed Residuals\n",
    "Residuals should be normally distributed. This can be checked using histogram of residuals\n",
    "\n",
    "#### 2. Little to no Multicollinearity \n",
    "Multiple regression assumes that the independent variables are not highly correlated with each other.  This assumption is tested using Variance Inflation Factor (VIF) values. One way to deal with multicollinearity is subtracting mean. \n",
    "\n",
    "#### 3. Homoscedasticity\n",
    "This assumption states that the variance of error terms are similar across the values of the independent variables.  A plot of standardized residuals versus predicted values can show whether points are equally distributed across all values of the independent variables.\n",
    "\n",
    "### Dummy variable trap\n",
    "This occurs when there is redundant information due to OneHotEncoder. Eg if there are two cities, New York and California, then a since City_New_York with value 0 or 1 is enough to preserve the information. If you make two columns City_New_York and City_California then both will portray same information, just opposite values. This introduces multicollinearity. When there are many unrelated featueres, the model can learn a lot from those. But when there are less features, then the model will be unstable and will undergo huge changes with little change in input value.\n",
    "\n",
    "#### Dummy variable trap can be avoided by dropping one feature off every subset of dummy variables. "
   ]
  },
  {
   "cell_type": "code",
   "execution_count": 1,
   "metadata": {
    "nbpresent": {
     "id": "b3febd39-abda-4a7b-a1f5-3b88c4c79de1"
    }
   },
   "outputs": [
    {
     "data": {
      "text/html": [
       "<div>\n",
       "<style scoped>\n",
       "    .dataframe tbody tr th:only-of-type {\n",
       "        vertical-align: middle;\n",
       "    }\n",
       "\n",
       "    .dataframe tbody tr th {\n",
       "        vertical-align: top;\n",
       "    }\n",
       "\n",
       "    .dataframe thead th {\n",
       "        text-align: right;\n",
       "    }\n",
       "</style>\n",
       "<table border=\"1\" class=\"dataframe\">\n",
       "  <thead>\n",
       "    <tr style=\"text-align: right;\">\n",
       "      <th></th>\n",
       "      <th>0</th>\n",
       "      <th>1</th>\n",
       "      <th>2</th>\n",
       "      <th>3</th>\n",
       "      <th>4</th>\n",
       "      <th>5</th>\n",
       "      <th>6</th>\n",
       "      <th>7</th>\n",
       "      <th>8</th>\n",
       "      <th>9</th>\n",
       "      <th>10</th>\n",
       "      <th>11</th>\n",
       "      <th>12</th>\n",
       "      <th>13</th>\n",
       "      <th>14</th>\n",
       "      <th>15</th>\n",
       "      <th>16</th>\n",
       "      <th>17</th>\n",
       "      <th>18</th>\n",
       "      <th>19</th>\n",
       "    </tr>\n",
       "  </thead>\n",
       "  <tbody>\n",
       "    <tr>\n",
       "      <th>0</th>\n",
       "      <td>-0.203714</td>\n",
       "      <td>-0.929547</td>\n",
       "      <td>0.291348</td>\n",
       "      <td>-0.435725</td>\n",
       "      <td>-1.839156</td>\n",
       "      <td>-1.341186</td>\n",
       "      <td>0.179618</td>\n",
       "      <td>0.151365</td>\n",
       "      <td>1.145092</td>\n",
       "      <td>-0.538748</td>\n",
       "      <td>3.072934</td>\n",
       "      <td>-0.233453</td>\n",
       "      <td>0.850415</td>\n",
       "      <td>-2.903879</td>\n",
       "      <td>0.094338</td>\n",
       "      <td>0.273662</td>\n",
       "      <td>-0.292430</td>\n",
       "      <td>-0.211927</td>\n",
       "      <td>0.792020</td>\n",
       "      <td>-0.622639</td>\n",
       "    </tr>\n",
       "    <tr>\n",
       "      <th>1</th>\n",
       "      <td>0.142322</td>\n",
       "      <td>-0.705676</td>\n",
       "      <td>1.918406</td>\n",
       "      <td>-1.424840</td>\n",
       "      <td>0.899184</td>\n",
       "      <td>-1.002907</td>\n",
       "      <td>0.391175</td>\n",
       "      <td>1.861430</td>\n",
       "      <td>0.419663</td>\n",
       "      <td>-0.401630</td>\n",
       "      <td>1.132534</td>\n",
       "      <td>1.293161</td>\n",
       "      <td>-0.789342</td>\n",
       "      <td>-0.005149</td>\n",
       "      <td>-0.712471</td>\n",
       "      <td>0.152542</td>\n",
       "      <td>-0.304973</td>\n",
       "      <td>-1.976908</td>\n",
       "      <td>-0.022931</td>\n",
       "      <td>-0.102874</td>\n",
       "    </tr>\n",
       "    <tr>\n",
       "      <th>2</th>\n",
       "      <td>2.465001</td>\n",
       "      <td>0.582731</td>\n",
       "      <td>0.022603</td>\n",
       "      <td>0.360664</td>\n",
       "      <td>0.158387</td>\n",
       "      <td>0.524031</td>\n",
       "      <td>0.883311</td>\n",
       "      <td>0.625213</td>\n",
       "      <td>-0.241628</td>\n",
       "      <td>-0.539538</td>\n",
       "      <td>0.449143</td>\n",
       "      <td>0.144611</td>\n",
       "      <td>-0.904553</td>\n",
       "      <td>0.153855</td>\n",
       "      <td>0.592191</td>\n",
       "      <td>-0.134971</td>\n",
       "      <td>-0.117932</td>\n",
       "      <td>0.994950</td>\n",
       "      <td>-2.106224</td>\n",
       "      <td>0.861358</td>\n",
       "    </tr>\n",
       "    <tr>\n",
       "      <th>3</th>\n",
       "      <td>-1.318371</td>\n",
       "      <td>-0.993735</td>\n",
       "      <td>-0.337501</td>\n",
       "      <td>-1.055651</td>\n",
       "      <td>1.206518</td>\n",
       "      <td>0.718554</td>\n",
       "      <td>-0.984348</td>\n",
       "      <td>-0.950675</td>\n",
       "      <td>-0.272845</td>\n",
       "      <td>-0.340949</td>\n",
       "      <td>-1.037855</td>\n",
       "      <td>-0.434887</td>\n",
       "      <td>-0.549904</td>\n",
       "      <td>0.228633</td>\n",
       "      <td>0.341034</td>\n",
       "      <td>-0.467487</td>\n",
       "      <td>0.340832</td>\n",
       "      <td>-0.044017</td>\n",
       "      <td>0.115717</td>\n",
       "      <td>1.261625</td>\n",
       "    </tr>\n",
       "    <tr>\n",
       "      <th>4</th>\n",
       "      <td>-0.388646</td>\n",
       "      <td>-1.610640</td>\n",
       "      <td>0.240620</td>\n",
       "      <td>0.680003</td>\n",
       "      <td>0.605017</td>\n",
       "      <td>1.106837</td>\n",
       "      <td>1.440265</td>\n",
       "      <td>-1.696286</td>\n",
       "      <td>-0.854736</td>\n",
       "      <td>0.775554</td>\n",
       "      <td>-0.425259</td>\n",
       "      <td>-2.435540</td>\n",
       "      <td>-1.308066</td>\n",
       "      <td>0.438881</td>\n",
       "      <td>-2.192390</td>\n",
       "      <td>0.776433</td>\n",
       "      <td>-0.940929</td>\n",
       "      <td>0.144047</td>\n",
       "      <td>-0.197816</td>\n",
       "      <td>0.276640</td>\n",
       "    </tr>\n",
       "  </tbody>\n",
       "</table>\n",
       "</div>"
      ],
      "text/plain": [
       "         0         1         2         3         4         5         6   \\\n",
       "0 -0.203714 -0.929547  0.291348 -0.435725 -1.839156 -1.341186  0.179618   \n",
       "1  0.142322 -0.705676  1.918406 -1.424840  0.899184 -1.002907  0.391175   \n",
       "2  2.465001  0.582731  0.022603  0.360664  0.158387  0.524031  0.883311   \n",
       "3 -1.318371 -0.993735 -0.337501 -1.055651  1.206518  0.718554 -0.984348   \n",
       "4 -0.388646 -1.610640  0.240620  0.680003  0.605017  1.106837  1.440265   \n",
       "\n",
       "         7         8         9         10        11        12        13  \\\n",
       "0  0.151365  1.145092 -0.538748  3.072934 -0.233453  0.850415 -2.903879   \n",
       "1  1.861430  0.419663 -0.401630  1.132534  1.293161 -0.789342 -0.005149   \n",
       "2  0.625213 -0.241628 -0.539538  0.449143  0.144611 -0.904553  0.153855   \n",
       "3 -0.950675 -0.272845 -0.340949 -1.037855 -0.434887 -0.549904  0.228633   \n",
       "4 -1.696286 -0.854736  0.775554 -0.425259 -2.435540 -1.308066  0.438881   \n",
       "\n",
       "         14        15        16        17        18        19  \n",
       "0  0.094338  0.273662 -0.292430 -0.211927  0.792020 -0.622639  \n",
       "1 -0.712471  0.152542 -0.304973 -1.976908 -0.022931 -0.102874  \n",
       "2  0.592191 -0.134971 -0.117932  0.994950 -2.106224  0.861358  \n",
       "3  0.341034 -0.467487  0.340832 -0.044017  0.115717  1.261625  \n",
       "4 -2.192390  0.776433 -0.940929  0.144047 -0.197816  0.276640  "
      ]
     },
     "execution_count": 1,
     "metadata": {},
     "output_type": "execute_result"
    }
   ],
   "source": [
    "import numpy as np\n",
    "import pandas as pd\n",
    "\n",
    "from sklearn.datasets import make_regression\n",
    "from sklearn.linear_model import LinearRegression\n",
    "from sklearn.model_selection import cross_val_score\n",
    "\n",
    "# Create made up regression dataset\n",
    "X, y = make_regression(n_samples=100, n_features=20, noise=0.95)\n",
    "# Create a table to view it\n",
    "df = pd.DataFrame(X)\n",
    "df.head()"
   ]
  },
  {
   "cell_type": "code",
   "execution_count": 4,
   "metadata": {},
   "outputs": [
    {
     "data": {
      "text/plain": [
       "0    -195.163049\n",
       "1    -135.013300\n",
       "2     222.400085\n",
       "3      76.470304\n",
       "4     229.988273\n",
       "         ...    \n",
       "95     78.220172\n",
       "96     96.889103\n",
       "97    116.839061\n",
       "98   -323.810370\n",
       "99    146.415821\n",
       "Length: 100, dtype: float64"
      ]
     },
     "execution_count": 4,
     "metadata": {},
     "output_type": "execute_result"
    }
   ],
   "source": [
    "pd.Series(y)"
   ]
  },
  {
   "cell_type": "markdown",
   "metadata": {
    "nbpresent": {
     "id": "c05a93bc-30ac-466d-834f-d9c358572f70"
    }
   },
   "source": [
    "### Results on a dataset with no multicollinearity"
   ]
  },
  {
   "cell_type": "code",
   "execution_count": 63,
   "metadata": {
    "nbpresent": {
     "id": "b5e4ee25-b9b2-4e8b-ac5f-da8da9f5cb95"
    }
   },
   "outputs": [
    {
     "name": "stdout",
     "output_type": "stream",
     "text": [
      "Mean: 0.999944526095\n",
      "Values: [ 0.99996679  0.99996035  0.99985266  0.99996614  0.99995686  0.99994011\n",
      "  0.99992176  0.99997001  0.99994873  0.99996186]\n"
     ]
    }
   ],
   "source": [
    "# Cross Validation will fit the classifier N number of times\n",
    "# and display the accuracies\n",
    "cv = cross_val_score(LinearRegression(), X, y, cv=10)\n",
    "print(\"Mean: {}\".format(cv.mean()))\n",
    "print(\"Values: {}\".format(cv))"
   ]
  },
  {
   "cell_type": "code",
   "execution_count": 5,
   "metadata": {},
   "outputs": [],
   "source": [
    "lr = LinearRegression()"
   ]
  },
  {
   "cell_type": "code",
   "execution_count": 6,
   "metadata": {},
   "outputs": [
    {
     "data": {
      "text/plain": [
       "LinearRegression()"
      ]
     },
     "execution_count": 6,
     "metadata": {},
     "output_type": "execute_result"
    }
   ],
   "source": [
    "lr.fit(X,y)"
   ]
  },
  {
   "cell_type": "code",
   "execution_count": 9,
   "metadata": {},
   "outputs": [
    {
     "data": {
      "text/plain": [
       "array([-194.72590285, -136.18523796,  222.68595594,   78.56614995,\n",
       "        230.08428242,  292.07742956,  -47.94275977, -101.49039558,\n",
       "       -201.73664197, -115.97149396, -113.64500881,  -93.31636837,\n",
       "        -62.56030181,  146.2570268 ,  393.39355646,  112.29088364,\n",
       "        189.84471005,  -14.47676909,  279.3713561 , -101.36831669,\n",
       "        -18.12385868,  -14.76457784,  -47.90077222,  176.55910957,\n",
       "       -139.38322372, -226.86604132, -175.26159569,  134.84999425,\n",
       "         45.43350877, -274.86388971,  287.6465673 , -160.22368871,\n",
       "       -206.82661132, -101.21770004, -163.78380996,   50.6725329 ,\n",
       "         55.64439488, -429.86278886,  -57.83884948,  -71.95190906,\n",
       "        183.34484574,  255.15084114, -268.15696933,  148.24334811,\n",
       "         37.93386658,  -27.50007034,  -81.47427904,   74.23763879,\n",
       "          4.26587312,  -30.74261542,  -70.7124229 , -129.27188589,\n",
       "       -125.23964398,  204.19929368,   -1.8416693 ,  223.26031546,\n",
       "        -30.45231862,  -52.05129484,   79.30215481,   41.87658054,\n",
       "         74.90314109,  240.29682801,   -7.51809878,  -12.98503696,\n",
       "       -323.97996606,  219.75649541,  171.47010226,   93.02677263,\n",
       "       -127.04614216,    7.37594821,  117.37398207,  218.35300126,\n",
       "        -53.03359576,    2.67323265,   67.7702507 , -117.9130938 ,\n",
       "        -99.39298134, -143.07351932,  202.14628099,  101.43069236,\n",
       "        -89.01903809, -261.19349614, -182.09054554,  -50.54745794,\n",
       "       -244.15474453,   14.15793252,  407.05326603,   22.89389082,\n",
       "         28.62987876,   34.57092524, -380.80721647, -184.51206231,\n",
       "         26.23092754,  -62.64776944, -121.09825396,   77.57392959,\n",
       "         97.21000693,  116.25872831, -323.05906873,  147.05717872])"
      ]
     },
     "execution_count": 9,
     "metadata": {},
     "output_type": "execute_result"
    }
   ],
   "source": [
    "lr.predict(X)"
   ]
  },
  {
   "cell_type": "code",
   "execution_count": 72,
   "metadata": {
    "nbpresent": {
     "id": "921bad8d-59a3-4d6e-b2dc-ef6e8bcb24bb"
    }
   },
   "outputs": [
    {
     "data": {
      "text/html": [
       "<div>\n",
       "<style scoped>\n",
       "    .dataframe tbody tr th:only-of-type {\n",
       "        vertical-align: middle;\n",
       "    }\n",
       "\n",
       "    .dataframe tbody tr th {\n",
       "        vertical-align: top;\n",
       "    }\n",
       "\n",
       "    .dataframe thead th {\n",
       "        text-align: right;\n",
       "    }\n",
       "</style>\n",
       "<table border=\"1\" class=\"dataframe\">\n",
       "  <thead>\n",
       "    <tr style=\"text-align: right;\">\n",
       "      <th></th>\n",
       "      <th>0</th>\n",
       "      <th>1</th>\n",
       "      <th>2</th>\n",
       "      <th>3</th>\n",
       "      <th>4</th>\n",
       "      <th>5</th>\n",
       "      <th>6</th>\n",
       "      <th>7</th>\n",
       "      <th>8</th>\n",
       "      <th>9</th>\n",
       "      <th>10</th>\n",
       "      <th>11</th>\n",
       "      <th>12</th>\n",
       "      <th>13</th>\n",
       "      <th>14</th>\n",
       "      <th>15</th>\n",
       "      <th>16</th>\n",
       "      <th>17</th>\n",
       "      <th>18</th>\n",
       "      <th>19</th>\n",
       "    </tr>\n",
       "  </thead>\n",
       "  <tbody>\n",
       "    <tr>\n",
       "      <th>0</th>\n",
       "      <td>0.015846</td>\n",
       "      <td>-0.010931</td>\n",
       "      <td>-0.004674</td>\n",
       "      <td>0.003822</td>\n",
       "      <td>-0.023871</td>\n",
       "      <td>-0.017512</td>\n",
       "      <td>0.044750</td>\n",
       "      <td>0.009582</td>\n",
       "      <td>-0.015291</td>\n",
       "      <td>-0.016862</td>\n",
       "      <td>0.027048</td>\n",
       "      <td>0.004653</td>\n",
       "      <td>0.012857</td>\n",
       "      <td>0.015904</td>\n",
       "      <td>-0.026063</td>\n",
       "      <td>-0.006431</td>\n",
       "      <td>0.029526</td>\n",
       "      <td>0.012398</td>\n",
       "      <td>0.005457</td>\n",
       "      <td>0.012917</td>\n",
       "    </tr>\n",
       "    <tr>\n",
       "      <th>1</th>\n",
       "      <td>0.020191</td>\n",
       "      <td>0.014001</td>\n",
       "      <td>0.006417</td>\n",
       "      <td>-0.003025</td>\n",
       "      <td>-0.011963</td>\n",
       "      <td>-0.007565</td>\n",
       "      <td>0.013667</td>\n",
       "      <td>-0.008957</td>\n",
       "      <td>0.036918</td>\n",
       "      <td>-0.028306</td>\n",
       "      <td>-0.010519</td>\n",
       "      <td>-0.031603</td>\n",
       "      <td>0.030384</td>\n",
       "      <td>-0.000335</td>\n",
       "      <td>0.000405</td>\n",
       "      <td>-0.029291</td>\n",
       "      <td>0.005563</td>\n",
       "      <td>-0.035104</td>\n",
       "      <td>0.023762</td>\n",
       "      <td>-0.001103</td>\n",
       "    </tr>\n",
       "    <tr>\n",
       "      <th>2</th>\n",
       "      <td>-0.009227</td>\n",
       "      <td>-0.013174</td>\n",
       "      <td>-0.080700</td>\n",
       "      <td>0.021887</td>\n",
       "      <td>-0.041854</td>\n",
       "      <td>0.052632</td>\n",
       "      <td>0.000175</td>\n",
       "      <td>0.017286</td>\n",
       "      <td>-0.021256</td>\n",
       "      <td>0.011598</td>\n",
       "      <td>-0.019671</td>\n",
       "      <td>-0.003535</td>\n",
       "      <td>0.047776</td>\n",
       "      <td>-0.023163</td>\n",
       "      <td>-0.007540</td>\n",
       "      <td>0.013366</td>\n",
       "      <td>-0.036634</td>\n",
       "      <td>-0.032115</td>\n",
       "      <td>-0.054735</td>\n",
       "      <td>0.030348</td>\n",
       "    </tr>\n",
       "    <tr>\n",
       "      <th>3</th>\n",
       "      <td>-0.033374</td>\n",
       "      <td>0.002136</td>\n",
       "      <td>0.009405</td>\n",
       "      <td>0.020186</td>\n",
       "      <td>-0.002358</td>\n",
       "      <td>-0.007324</td>\n",
       "      <td>-0.030595</td>\n",
       "      <td>0.013745</td>\n",
       "      <td>0.012005</td>\n",
       "      <td>0.001523</td>\n",
       "      <td>0.009838</td>\n",
       "      <td>0.012011</td>\n",
       "      <td>-0.009667</td>\n",
       "      <td>-0.000170</td>\n",
       "      <td>0.025990</td>\n",
       "      <td>0.012361</td>\n",
       "      <td>0.002625</td>\n",
       "      <td>-0.001620</td>\n",
       "      <td>0.021952</td>\n",
       "      <td>-0.003477</td>\n",
       "    </tr>\n",
       "    <tr>\n",
       "      <th>4</th>\n",
       "      <td>-0.005361</td>\n",
       "      <td>0.027710</td>\n",
       "      <td>0.027310</td>\n",
       "      <td>0.002298</td>\n",
       "      <td>0.014358</td>\n",
       "      <td>-0.010233</td>\n",
       "      <td>-0.031642</td>\n",
       "      <td>0.000922</td>\n",
       "      <td>-0.008463</td>\n",
       "      <td>-0.019281</td>\n",
       "      <td>0.018650</td>\n",
       "      <td>0.004970</td>\n",
       "      <td>0.060408</td>\n",
       "      <td>0.011731</td>\n",
       "      <td>-0.014682</td>\n",
       "      <td>-0.055579</td>\n",
       "      <td>-0.011830</td>\n",
       "      <td>0.019722</td>\n",
       "      <td>0.003625</td>\n",
       "      <td>0.003970</td>\n",
       "    </tr>\n",
       "  </tbody>\n",
       "</table>\n",
       "</div>"
      ],
      "text/plain": [
       "         0         1         2         3         4         5         6   \\\n",
       "0  0.015846 -0.010931 -0.004674  0.003822 -0.023871 -0.017512  0.044750   \n",
       "1  0.020191  0.014001  0.006417 -0.003025 -0.011963 -0.007565  0.013667   \n",
       "2 -0.009227 -0.013174 -0.080700  0.021887 -0.041854  0.052632  0.000175   \n",
       "3 -0.033374  0.002136  0.009405  0.020186 -0.002358 -0.007324 -0.030595   \n",
       "4 -0.005361  0.027710  0.027310  0.002298  0.014358 -0.010233 -0.031642   \n",
       "\n",
       "         7         8         9         10        11        12        13  \\\n",
       "0  0.009582 -0.015291 -0.016862  0.027048  0.004653  0.012857  0.015904   \n",
       "1 -0.008957  0.036918 -0.028306 -0.010519 -0.031603  0.030384 -0.000335   \n",
       "2  0.017286 -0.021256  0.011598 -0.019671 -0.003535  0.047776 -0.023163   \n",
       "3  0.013745  0.012005  0.001523  0.009838  0.012011 -0.009667 -0.000170   \n",
       "4  0.000922 -0.008463 -0.019281  0.018650  0.004970  0.060408  0.011731   \n",
       "\n",
       "         14        15        16        17        18        19  \n",
       "0 -0.026063 -0.006431  0.029526  0.012398  0.005457  0.012917  \n",
       "1  0.000405 -0.029291  0.005563 -0.035104  0.023762 -0.001103  \n",
       "2 -0.007540  0.013366 -0.036634 -0.032115 -0.054735  0.030348  \n",
       "3  0.025990  0.012361  0.002625 -0.001620  0.021952 -0.003477  \n",
       "4 -0.014682 -0.055579 -0.011830  0.019722  0.003625  0.003970  "
      ]
     },
     "execution_count": 72,
     "metadata": {},
     "output_type": "execute_result"
    }
   ],
   "source": [
    "# Create the dataset once again. This time, introduce high\n",
    "# multicollinearity by setting low rank to the input matrix\n",
    "X, y = make_regression(n_samples=100, n_features=20, noise=0.95, effective_rank=1)\n",
    "df = pd.DataFrame(X)\n",
    "df.head()"
   ]
  },
  {
   "cell_type": "markdown",
   "metadata": {
    "nbpresent": {
     "id": "e6ce378d-dbff-46b1-99c3-77e18891ee1b"
    }
   },
   "source": [
    "### Results on dataset with high multicollinearity "
   ]
  },
  {
   "cell_type": "code",
   "execution_count": 73,
   "metadata": {
    "nbpresent": {
     "id": "c7660cf5-ec2d-43a3-92a6-86bd5159cb08"
    }
   },
   "outputs": [
    {
     "name": "stdout",
     "output_type": "stream",
     "text": [
      "Mean: 0.927965134304\n",
      "Values: [ 0.8348102   0.95336766  0.93501047  0.95455964  0.8854501   0.95326037\n",
      "  0.9354691   0.92986913  0.95585656  0.94199813]\n"
     ]
    }
   ],
   "source": [
    "# Cross Validation will fit the classifier N number of times\n",
    "# and display the accuracies\n",
    "cv = cross_val_score(LinearRegression(), X, y, cv=10)\n",
    "print(\"Mean: {}\".format(cv.mean()))\n",
    "print(\"Values: {}\".format(cv))"
   ]
  },
  {
   "cell_type": "code",
   "execution_count": null,
   "metadata": {
    "nbpresent": {
     "id": "abb5adfc-c10a-49d3-85d3-10bae74cb33b"
    }
   },
   "outputs": [],
   "source": []
  }
 ],
 "metadata": {
  "anaconda-cloud": {},
  "kernelspec": {
   "display_name": "Python 3",
   "language": "python",
   "name": "python3"
  },
  "language_info": {
   "codemirror_mode": {
    "name": "ipython",
    "version": 3
   },
   "file_extension": ".py",
   "mimetype": "text/x-python",
   "name": "python",
   "nbconvert_exporter": "python",
   "pygments_lexer": "ipython3",
   "version": "3.8.5"
  },
  "nbpresent": {
   "slides": {
    "009f09fb-9b67-4b76-89d3-7ea45b9ef01a": {
     "id": "009f09fb-9b67-4b76-89d3-7ea45b9ef01a",
     "prev": "728a638f-f6c1-44a8-b9a3-12a2e69b987c",
     "regions": {
      "6d447400-de92-4395-949d-b4d894fe53f4": {
       "attrs": {
        "height": 0.8,
        "width": 0.8,
        "x": 0.1,
        "y": 0.1
       },
       "content": {
        "cell": "c05a93bc-30ac-466d-834f-d9c358572f70",
        "part": "whole"
       },
       "id": "6d447400-de92-4395-949d-b4d894fe53f4"
      }
     }
    },
    "5dbc0023-f238-4b80-925e-3eeadf625eea": {
     "id": "5dbc0023-f238-4b80-925e-3eeadf625eea",
     "prev": "009f09fb-9b67-4b76-89d3-7ea45b9ef01a",
     "regions": {
      "7291ffcd-f4cf-4324-96c9-0c7b88f47fcd": {
       "attrs": {
        "height": 0.8,
        "width": 0.8,
        "x": 0.1,
        "y": 0.1
       },
       "content": {
        "cell": "b5e4ee25-b9b2-4e8b-ac5f-da8da9f5cb95",
        "part": "whole"
       },
       "id": "7291ffcd-f4cf-4324-96c9-0c7b88f47fcd"
      }
     }
    },
    "67eaeec6-4a3d-44ae-933b-c3bbc2dcdf1d": {
     "id": "67eaeec6-4a3d-44ae-933b-c3bbc2dcdf1d",
     "prev": "e390c96c-7f31-4b26-9fa3-821ccfbfc406",
     "regions": {
      "10cbe3a3-db4d-401c-b649-e8b5213f983a": {
       "attrs": {
        "height": 0.8,
        "width": 0.8,
        "x": 0.1,
        "y": 0.1
       },
       "content": {
        "cell": "abb5adfc-c10a-49d3-85d3-10bae74cb33b",
        "part": "whole"
       },
       "id": "10cbe3a3-db4d-401c-b649-e8b5213f983a"
      }
     }
    },
    "728a638f-f6c1-44a8-b9a3-12a2e69b987c": {
     "id": "728a638f-f6c1-44a8-b9a3-12a2e69b987c",
     "prev": "ee8d6ed7-9d98-4444-8e65-61a1800c6c60",
     "regions": {
      "eca15f5a-2a6e-404f-9115-9bef612ac50c": {
       "attrs": {
        "height": 0.8,
        "width": 0.8,
        "x": 0.1,
        "y": 0.1
       },
       "content": {
        "cell": "b3febd39-abda-4a7b-a1f5-3b88c4c79de1",
        "part": "whole"
       },
       "id": "eca15f5a-2a6e-404f-9115-9bef612ac50c"
      }
     }
    },
    "7e24001b-a1d3-43ca-894e-b0a26a78671a": {
     "id": "7e24001b-a1d3-43ca-894e-b0a26a78671a",
     "prev": "89322f7d-d683-4a24-aff7-8d3ffc172072",
     "regions": {
      "41b6488b-d8aa-402b-91a9-fe7cbc8bc560": {
       "attrs": {
        "height": 0.8,
        "width": 0.8,
        "x": 0.1,
        "y": 0.1
       },
       "content": {
        "cell": "e6ce378d-dbff-46b1-99c3-77e18891ee1b",
        "part": "whole"
       },
       "id": "41b6488b-d8aa-402b-91a9-fe7cbc8bc560"
      }
     }
    },
    "89322f7d-d683-4a24-aff7-8d3ffc172072": {
     "id": "89322f7d-d683-4a24-aff7-8d3ffc172072",
     "prev": "5dbc0023-f238-4b80-925e-3eeadf625eea",
     "regions": {
      "2aa358c0-9c63-44c9-95b0-68d5f8097a6e": {
       "attrs": {
        "height": 0.8,
        "width": 0.8,
        "x": 0.1,
        "y": 0.1
       },
       "content": {
        "cell": "921bad8d-59a3-4d6e-b2dc-ef6e8bcb24bb",
        "part": "whole"
       },
       "id": "2aa358c0-9c63-44c9-95b0-68d5f8097a6e"
      }
     }
    },
    "e390c96c-7f31-4b26-9fa3-821ccfbfc406": {
     "id": "e390c96c-7f31-4b26-9fa3-821ccfbfc406",
     "prev": "7e24001b-a1d3-43ca-894e-b0a26a78671a",
     "regions": {
      "cdbfcf77-00d1-4f43-b0db-037e37e39df6": {
       "attrs": {
        "height": 0.8,
        "width": 0.8,
        "x": 0.1,
        "y": 0.1
       },
       "content": {
        "cell": "c7660cf5-ec2d-43a3-92a6-86bd5159cb08",
        "part": "whole"
       },
       "id": "cdbfcf77-00d1-4f43-b0db-037e37e39df6"
      }
     }
    },
    "ee8d6ed7-9d98-4444-8e65-61a1800c6c60": {
     "id": "ee8d6ed7-9d98-4444-8e65-61a1800c6c60",
     "prev": null,
     "regions": {
      "ea96c8e7-69d9-459c-b7b4-2593f0139943": {
       "attrs": {
        "height": 0.8,
        "width": 0.8,
        "x": 0.1,
        "y": 0.1
       },
       "content": {
        "cell": "9e327d62-efa8-42da-a466-3807c60e7b68",
        "part": "whole"
       },
       "id": "ea96c8e7-69d9-459c-b7b4-2593f0139943"
      }
     }
    }
   },
   "themes": {}
  }
 },
 "nbformat": 4,
 "nbformat_minor": 4
}
